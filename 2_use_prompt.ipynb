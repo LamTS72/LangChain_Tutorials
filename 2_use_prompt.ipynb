{
 "cells": [
  {
   "cell_type": "markdown",
   "metadata": {},
   "source": [
    "##### Prompt Template là nơi mà đặt câu hỏi vào đó, nó bao gồm:\n",
    "##### - Instruction Tuning (hướng dẫn yêu cầu model làm công việc gì)\n",
    "##### - Few-shot Learning (cho vài vài ví dụ liên quan)\n",
    "##### - Cho Context và Question (cho ngữ cảnh và câu hỏi liên quan)\n"
   ]
  },
  {
   "cell_type": "markdown",
   "metadata": {},
   "source": [
    "## Using PromptTemplate\n",
    "### Dùng cho các tình huống bình thường, đơn giản"
   ]
  },
  {
   "cell_type": "code",
   "execution_count": 4,
   "metadata": {},
   "outputs": [],
   "source": [
    "from langchain.prompts import PromptTemplate"
   ]
  },
  {
   "cell_type": "code",
   "execution_count": 5,
   "metadata": {},
   "outputs": [
    {
     "data": {
      "text/plain": [
       "'What is the capital of Vietnam'"
      ]
     },
     "execution_count": 5,
     "metadata": {},
     "output_type": "execute_result"
    }
   ],
   "source": [
    "prompt_template = PromptTemplate.from_template(\n",
    "        '''What is the capital of {country}'''\n",
    ")\n",
    "user_query = \"Vietnam\"\n",
    "prompt_template.format(country=user_query)"
   ]
  },
  {
   "cell_type": "markdown",
   "metadata": {},
   "source": [
    "## Using ChatPromptTemplate\n",
    "### Dùng cho Chatbot chủ yếu, sử dụng trong \n",
    "### các trường hợp lưu cuộc trò chuyện, ngữ cảnh"
   ]
  },
  {
   "cell_type": "code",
   "execution_count": 30,
   "metadata": {},
   "outputs": [],
   "source": [
    "from langchain.prompts import ChatPromptTemplate\n",
    "from langchain.schema import SystemMessage, HumanMessage, AIMessage"
   ]
  },
  {
   "cell_type": "code",
   "execution_count": 49,
   "metadata": {},
   "outputs": [],
   "source": [
    "message_history = [\n",
    "        (\"system\", \"You are chatbot. Your name is {bot_name}\"),\n",
    "        (\"user\", \"Hello\"),\n",
    "        (\"assistant\", \"Hi. How can I help you\"),\n",
    "        (\"user\", \"{user_query}\"),\n",
    "]\n",
    "user_query = \"'What is your name\"\n",
    "chat_prompt_template = ChatPromptTemplate.from_messages(message_history) \n",
    "question = chat_prompt_template.format(bot_name=\"Capybara AI\", user_query=user_query)"
   ]
  },
  {
   "cell_type": "code",
   "execution_count": 50,
   "metadata": {},
   "outputs": [
    {
     "data": {
      "text/plain": [
       "\"System: You are chatbot. Your name is Capybara AI\\nHuman: Hello\\nAI: Hi. How can I help you\\nHuman: 'What is your name\""
      ]
     },
     "execution_count": 50,
     "metadata": {},
     "output_type": "execute_result"
    }
   ],
   "source": [
    "question"
   ]
  },
  {
   "cell_type": "code",
   "execution_count": 51,
   "metadata": {},
   "outputs": [],
   "source": [
    "from langchain_openai import ChatOpenAI"
   ]
  },
  {
   "cell_type": "code",
   "execution_count": 52,
   "metadata": {},
   "outputs": [],
   "source": [
    "from configparser import ConfigParser\n",
    "import os\n",
    "config = ConfigParser()\n",
    "config.read(\"./config.ini\")\n",
    "os.environ[\"OPENAI_API_KEY\"]=config[\"KEY\"][\"openai_key\"]"
   ]
  },
  {
   "cell_type": "code",
   "execution_count": 53,
   "metadata": {},
   "outputs": [],
   "source": [
    "llm = ChatOpenAI(\n",
    "        api_key=os.environ[\"OPENAI_API_KEY\"],\n",
    "        temperature=0.2,\n",
    "        max_tokens=100\n",
    ")"
   ]
  },
  {
   "cell_type": "code",
   "execution_count": 54,
   "metadata": {},
   "outputs": [],
   "source": [
    "output = llm.invoke(question)"
   ]
  },
  {
   "cell_type": "code",
   "execution_count": 55,
   "metadata": {},
   "outputs": [
    {
     "data": {
      "text/plain": [
       "'AI: My name is Capybara AI. How can I assist you today?'"
      ]
     },
     "execution_count": 55,
     "metadata": {},
     "output_type": "execute_result"
    }
   ],
   "source": [
    "output.content"
   ]
  },
  {
   "cell_type": "code",
   "execution_count": null,
   "metadata": {},
   "outputs": [],
   "source": []
  }
 ],
 "metadata": {
  "kernelspec": {
   "display_name": "PyJupyter",
   "language": "python",
   "name": "python3"
  },
  "language_info": {
   "codemirror_mode": {
    "name": "ipython",
    "version": 3
   },
   "file_extension": ".py",
   "mimetype": "text/x-python",
   "name": "python",
   "nbconvert_exporter": "python",
   "pygments_lexer": "ipython3",
   "version": "3.10.9"
  }
 },
 "nbformat": 4,
 "nbformat_minor": 2
}
