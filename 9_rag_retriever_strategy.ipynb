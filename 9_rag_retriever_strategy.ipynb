{
 "cells": [
  {
   "cell_type": "markdown",
   "metadata": {},
   "source": [
    "##### Có nhiều chiến lược dành cho Retriever\n",
    "##### dùng để tìm ra những embeddings liên quan\n",
    "##### đến query và lấy ra những tài liệu đó, đưa vào \n",
    "##### LLM như gọi ý context"
   ]
  }
 ],
 "metadata": {
  "language_info": {
   "name": "python"
  }
 },
 "nbformat": 4,
 "nbformat_minor": 2
}
